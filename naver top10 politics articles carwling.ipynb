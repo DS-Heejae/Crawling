{
 "cells": [
  {
   "cell_type": "markdown",
   "metadata": {},
   "source": [
    "### 네이버 가장 많이 본 정치 기사 제목 데이터 크롤링\n",
    "- selenium을 이용한 텍스트 데이터 수집\n"
   ]
  },
  {
   "cell_type": "code",
   "execution_count": 1,
   "metadata": {},
   "outputs": [],
   "source": [
    "from selenium import webdriver"
   ]
  },
  {
   "cell_type": "code",
   "execution_count": 2,
   "metadata": {},
   "outputs": [],
   "source": [
    "url=\"https://news.naver.com/main/list.nhn?mode=LSD&mid=sec&sid1=001\""
   ]
  },
  {
   "cell_type": "code",
   "execution_count": 3,
   "metadata": {},
   "outputs": [],
   "source": [
    "driver= webdriver.Chrome()\n",
    "driver.get(url)"
   ]
  },
  {
   "cell_type": "code",
   "execution_count": 4,
   "metadata": {},
   "outputs": [
    {
     "data": {
      "text/plain": [
       "10"
      ]
     },
     "execution_count": 4,
     "metadata": {},
     "output_type": "execute_result"
    }
   ],
   "source": [
    "articles= driver.find_elements_by_css_selector(\"#ranking_100> ul > li > a\")\n",
    "len(articles)"
   ]
  },
  {
   "cell_type": "code",
   "execution_count": 5,
   "metadata": {},
   "outputs": [
    {
     "data": {
      "text/plain": [
       "('이재명 \"대구 환자 수용 거절은 오해…중증환자는 얼마든지 수용\"',\n",
       " 'https://news.naver.com/main/ranking/read.nhn?mid=etc&sid1=111&rankingType=popular_day&oid=417&aid=0000510698&date=20200228&type=1&rankingSeq=1&rankingSectionId=100')"
      ]
     },
     "execution_count": 5,
     "metadata": {},
     "output_type": "execute_result"
    }
   ],
   "source": [
    "# sample test\n",
    "title = articles[0].get_attribute('title')\n",
    "link = articles[0].get_attribute('href')\n",
    "title, link"
   ]
  },
  {
   "cell_type": "code",
   "execution_count": 6,
   "metadata": {},
   "outputs": [],
   "source": [
    "def get_top10_politics_articles():\n",
    "\n",
    "    url=\"https://news.naver.com/main/list.nhn?mode=LSD&mid=sec&sid1=001\"\n",
    "    driver=webdriver.Chrome()\n",
    "    driver.get(url)\n",
    "    articles= driver.find_elements_by_css_selector(\"#ranking_100 > ul > li > a\")\n",
    "    \n",
    "    article_list=[]\n",
    "\n",
    "    for article in articles:\n",
    "        title = article.get_attribute('title')\n",
    "        link = articles[1].get_attribute('href')\n",
    "        article_list.append({\n",
    "       \n",
    "        \"link\" : link,\n",
    "        \"title\": title,\n",
    "         })\n",
    "    \n",
    "    driver.quit()\n",
    "\n",
    "    return pd.DataFrame(article_list)"
   ]
  },
  {
   "cell_type": "code",
   "execution_count": 7,
   "metadata": {},
   "outputs": [
    {
     "data": {
      "text/html": [
       "<div>\n",
       "<style scoped>\n",
       "    .dataframe tbody tr th:only-of-type {\n",
       "        vertical-align: middle;\n",
       "    }\n",
       "\n",
       "    .dataframe tbody tr th {\n",
       "        vertical-align: top;\n",
       "    }\n",
       "\n",
       "    .dataframe thead th {\n",
       "        text-align: right;\n",
       "    }\n",
       "</style>\n",
       "<table border=\"1\" class=\"dataframe\">\n",
       "  <thead>\n",
       "    <tr style=\"text-align: right;\">\n",
       "      <th></th>\n",
       "      <th>link</th>\n",
       "      <th>title</th>\n",
       "    </tr>\n",
       "  </thead>\n",
       "  <tbody>\n",
       "    <tr>\n",
       "      <th>0</th>\n",
       "      <td>https://news.naver.com/main/ranking/read.nhn?m...</td>\n",
       "      <td>이재명 \"대구 환자 수용 거절은 오해…중증환자는 얼마든지 수용\"</td>\n",
       "    </tr>\n",
       "    <tr>\n",
       "      <th>1</th>\n",
       "      <td>https://news.naver.com/main/ranking/read.nhn?m...</td>\n",
       "      <td>코로나19로 갈린 민심…문 대통령 탄핵 120만 vs 응원 88만</td>\n",
       "    </tr>\n",
       "    <tr>\n",
       "      <th>2</th>\n",
       "      <td>https://news.naver.com/main/ranking/read.nhn?m...</td>\n",
       "      <td>“우리는 청원자들을 탄핵한다” 쏟아진 ‘문재인 응원’ 청원</td>\n",
       "    </tr>\n",
       "    <tr>\n",
       "      <th>3</th>\n",
       "      <td>https://news.naver.com/main/ranking/read.nhn?m...</td>\n",
       "      <td>文탄핵청원 숫자조작 논란… 靑은 \"가짜뉴스\"</td>\n",
       "    </tr>\n",
       "    <tr>\n",
       "      <th>4</th>\n",
       "      <td>https://news.naver.com/main/ranking/read.nhn?m...</td>\n",
       "      <td>\"5.18 유공자 괴물집단\" 막말 김순례 '컷오프'···태영호는 텃밭 '강남갑' 전략공천</td>\n",
       "    </tr>\n",
       "    <tr>\n",
       "      <th>5</th>\n",
       "      <td>https://news.naver.com/main/ranking/read.nhn?m...</td>\n",
       "      <td>“막말 싫지만 여당 안찍어” “통합당 빼고 될 만한 사람 밀거야”</td>\n",
       "    </tr>\n",
       "    <tr>\n",
       "      <th>6</th>\n",
       "      <td>https://news.naver.com/main/ranking/read.nhn?m...</td>\n",
       "      <td>세계 4분의1이 한국인 입국금지·검역강화…입국제한 50곳으로</td>\n",
       "    </tr>\n",
       "    <tr>\n",
       "      <th>7</th>\n",
       "      <td>https://news.naver.com/main/ranking/read.nhn?m...</td>\n",
       "      <td>‘中 입국금지’ 요구에 뒤늦게 해명나선 靑 “절차 강화뒤 확진 없어… 눈치보기? 유감”</td>\n",
       "    </tr>\n",
       "    <tr>\n",
       "      <th>8</th>\n",
       "      <td>https://news.naver.com/main/ranking/read.nhn?m...</td>\n",
       "      <td>[정치언박싱] 박지원 \"문빠는 백공일과···文 비판하면 문자폭탄\"</td>\n",
       "    </tr>\n",
       "    <tr>\n",
       "      <th>9</th>\n",
       "      <td>https://news.naver.com/main/ranking/read.nhn?m...</td>\n",
       "      <td>[단독] \"명분 만들면 된다\" 與실세 마포 회동 날, 비례정당 합의</td>\n",
       "    </tr>\n",
       "  </tbody>\n",
       "</table>\n",
       "</div>"
      ],
      "text/plain": [
       "                                                link  \\\n",
       "0  https://news.naver.com/main/ranking/read.nhn?m...   \n",
       "1  https://news.naver.com/main/ranking/read.nhn?m...   \n",
       "2  https://news.naver.com/main/ranking/read.nhn?m...   \n",
       "3  https://news.naver.com/main/ranking/read.nhn?m...   \n",
       "4  https://news.naver.com/main/ranking/read.nhn?m...   \n",
       "5  https://news.naver.com/main/ranking/read.nhn?m...   \n",
       "6  https://news.naver.com/main/ranking/read.nhn?m...   \n",
       "7  https://news.naver.com/main/ranking/read.nhn?m...   \n",
       "8  https://news.naver.com/main/ranking/read.nhn?m...   \n",
       "9  https://news.naver.com/main/ranking/read.nhn?m...   \n",
       "\n",
       "                                               title  \n",
       "0                이재명 \"대구 환자 수용 거절은 오해…중증환자는 얼마든지 수용\"  \n",
       "1               코로나19로 갈린 민심…문 대통령 탄핵 120만 vs 응원 88만  \n",
       "2                   “우리는 청원자들을 탄핵한다” 쏟아진 ‘문재인 응원’ 청원  \n",
       "3                           文탄핵청원 숫자조작 논란… 靑은 \"가짜뉴스\"  \n",
       "4  \"5.18 유공자 괴물집단\" 막말 김순례 '컷오프'···태영호는 텃밭 '강남갑' 전략공천  \n",
       "5               “막말 싫지만 여당 안찍어” “통합당 빼고 될 만한 사람 밀거야”  \n",
       "6                  세계 4분의1이 한국인 입국금지·검역강화…입국제한 50곳으로  \n",
       "7   ‘中 입국금지’ 요구에 뒤늦게 해명나선 靑 “절차 강화뒤 확진 없어… 눈치보기? 유감”  \n",
       "8               [정치언박싱] 박지원 \"문빠는 백공일과···文 비판하면 문자폭탄\"  \n",
       "9              [단독] \"명분 만들면 된다\" 與실세 마포 회동 날, 비례정당 합의  "
      ]
     },
     "execution_count": 7,
     "metadata": {},
     "output_type": "execute_result"
    }
   ],
   "source": [
    "get_top10_politics_articles()"
   ]
  }
 ],
 "metadata": {
  "kernelspec": {
   "display_name": "Python 3",
   "language": "python",
   "name": "python3"
  },
  "language_info": {
   "codemirror_mode": {
    "name": "ipython",
    "version": 3
   },
   "file_extension": ".py",
   "mimetype": "text/x-python",
   "name": "python",
   "nbconvert_exporter": "python",
   "pygments_lexer": "ipython3",
   "version": "3.7.3"
  }
 },
 "nbformat": 4,
 "nbformat_minor": 2
}
